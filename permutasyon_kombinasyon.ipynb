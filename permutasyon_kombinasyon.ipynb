{
  "nbformat": 4,
  "nbformat_minor": 0,
  "metadata": {
    "colab": {
      "name": "permutasyon_kombinasyon.ipynb",
      "version": "0.3.2",
      "provenance": [],
      "collapsed_sections": [],
      "include_colab_link": true
    },
    "kernelspec": {
      "name": "python3",
      "display_name": "Python 3"
    }
  },
  "cells": [
    {
      "cell_type": "markdown",
      "metadata": {
        "id": "view-in-github",
        "colab_type": "text"
      },
      "source": [
        "<a href=\"https://colab.research.google.com/github/mutluslu/ileriolasilik/blob/master/permutasyon_kombinasyon.ipynb\" target=\"_parent\"><img src=\"https://colab.research.google.com/assets/colab-badge.svg\" alt=\"Open In Colab\"/></a>"
      ]
    },
    {
      "metadata": {
        "id": "zQP4RMkxsSP8",
        "colab_type": "code",
        "colab": {
          "base_uri": "https://localhost:8080/",
          "height": 187
        },
        "outputId": "e9628b30-ad28-4f86-c7e6-d1705785a9bd"
      },
      "cell_type": "code",
      "source": [
        "def faktoriyel(sayi):\n",
        "    if sayi <= 1:\n",
        "        return 1\n",
        "    else:\n",
        "        return sayi*faktoriyel(sayi-1)\n",
        "\n",
        "n = 0\n",
        "r = 0\n",
        "secim = 0\n",
        "sonuc = 0\n",
        "sonuc2 = 0\n",
        "\n",
        "print(\"...Hoşgeldiniz...\")\n",
        "print(\"Permutasyon = 1 P(n,r)\")\n",
        "print(\"Kombinasyon = 2 C(n,r)\")\n",
        "print(\"Permutasyon ve Kombinasyon = 3 P(n,r) C(n,r)\")\n",
        "print(\"Çıkış= -1\")\n",
        "\n",
        "secim = int(input(\"Seçiminizi yapınız:\"))\n",
        "\n",
        "if secim == -1:\n",
        "    print(\"İşlem yapmadan çıkış yaptınız!!!\")\n",
        "    exit()\n",
        "\n",
        "while secim != -1:\n",
        "    n = int(input(\"n sayısını giriniz:\"))\n",
        "    r = int(input(\"r sayısını giriniz:\"))\n",
        "    if secim == 1:\n",
        "        sonuc = faktoriyel(n)/faktoriyel(n-r)\n",
        "        print (\"P(%s,%s) = %s\" %(n,r,sonuc))\n",
        "    elif secim == 2:\n",
        "        if r > n/2:\n",
        "            r = n-r\n",
        "            sonuc = faktoriyel(n)/(faktoriyel(n-r)*faktoriyel(r))\n",
        "        else:\n",
        "            sonuc = faktoriyel(n)/(faktoriyel(n-r)*faktoriyel(r))\n",
        "        print (\"c(%s,%s) = %s\" %(n,r,sonuc))\n",
        "    elif secim == 3:\n",
        "        sonuc = faktoriyel(n)/faktoriyel(n-r)\n",
        "        sonuc2 = sonuc/faktoriyel(r)\n",
        "        print (\"P(%s,%s) = %s\" %(n,r,sonuc))\n",
        "        print (\"c(%s,%s) = %s\" %(n,r,sonuc2))\n",
        "    elif secim == -1:\n",
        "        break\n",
        "    else:\n",
        "        print (\"Hatalı değer girdiniz!!!\")\n",
        "    secim = int(input(\"Seçiminizi yapınız:\"))\n"
      ],
      "execution_count": 2,
      "outputs": [
        {
          "output_type": "stream",
          "text": [
            "...Hoşgeldiniz...\n",
            "Permutasyon = 1 P(n,r)\n",
            "Kombinasyon = 2 C(n,r)\n",
            "Permutasyon ve Kombinasyon = 3 P(n,r) C(n,r)\n",
            "Çıkış= -1\n",
            "Seçiminizi yapınız:2\n",
            "n sayısını giriniz:6\n",
            "r sayısını giriniz:5\n",
            "c(6,1) = 6.0\n",
            "Seçiminizi yapınız:-1\n"
          ],
          "name": "stdout"
        }
      ]
    },
    {
      "metadata": {
        "id": "440ap1RbFci5",
        "colab_type": "code",
        "colab": {}
      },
      "cell_type": "code",
      "source": [
        ""
      ],
      "execution_count": 0,
      "outputs": []
    }
  ]
}