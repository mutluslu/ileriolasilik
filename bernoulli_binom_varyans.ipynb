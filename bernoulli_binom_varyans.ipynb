{
  "nbformat": 4,
  "nbformat_minor": 0,
  "metadata": {
    "colab": {
      "name": "bernoulli-binom-varyans.ipynb",
      "version": "0.3.2",
      "provenance": [],
      "include_colab_link": true
    },
    "kernelspec": {
      "name": "python3",
      "display_name": "Python 3"
    }
  },
  "cells": [
    {
      "cell_type": "markdown",
      "metadata": {
        "id": "view-in-github",
        "colab_type": "text"
      },
      "source": [
        "<a href=\"https://colab.research.google.com/github/mutluslu/ileriolasilik/blob/master/bernoulli_binom_varyans.ipynb\" target=\"_parent\"><img src=\"https://colab.research.google.com/assets/colab-badge.svg\" alt=\"Open In Colab\"/></a>"
      ]
    },
    {
      "cell_type": "markdown",
      "metadata": {
        "id": "JIsRpGvZFbMf",
        "colab_type": "text"
      },
      "source": [
        "**Bernoulli prensibi**\n",
        "\n",
        "Farklı kesit alanlarında ideal akışkanın basıncının nasıl değiştiğini açıklayan ilkeye Bernoulli prensibi denir.\n",
        "\n",
        "Bernoulli ilkesine göre akışkanın hızı ile basıncı arasında ters orantı vardır. Yani akışkanın hızının arttığı kesitte basınç azalır, hızın azaldığı kesitte basınç artar.\n",
        " \n",
        "V3 > V2 > V1 ise P1 > P2 > P3 olur.\n",
        "Sıvı basıncı yükseklikle doğru orantılı olduğuna göre yukarıdaki şekilde h1 > h2 > h3 olur.\n",
        "\n",
        "**Bernoulli Dağılımı:**\n",
        "Bir deneyde başarı ve başarısızlık diye nitelendirilen iki sonuçla ilgilenildiğinde bu deneye (iki sonuçlu) Bernoulli deneyi ya da Bernoulli denemesi denir.\n",
        "\n",
        "**Basarı olasılıgı **⇒ p,(0<p<1) \n",
        "\n",
        "**Basarısızlık olasılıgı **⇒  1−p=q \n",
        "\n",
        "Bernoulli dagılımının olasılık fonksiyonu:\n",
        "\n",
        " P(X=x)=px(1−p)1−x,x=0,1 \n",
        " \n",
        " E[X]=∑xP(X=x)=0(1−p)+1p=p \n",
        " \n",
        " E[X2]=∑x2P(X=x2)=02(1−p)+12p=p \n",
        " \n",
        " Var(X)=E[X2]−E[X]2=p−p2=p(1−p)=p(1−p)\n",
        " \n",
        " Örnek:\n",
        "Bir ameliyatın başarılı olma olasılığı %85, başarısız olma olasılığı %15'dir. Buna göre Bernoulli dağılımını hesaplayınız.\n",
        "\n",
        "\n"
      ]
    },
    {
      "cell_type": "code",
      "metadata": {
        "id": "E7LtXKBtHpie",
        "colab_type": "code",
        "outputId": "cbfe6e39-30c6-4ad2-f406-01d05b0fe454",
        "colab": {
          "base_uri": "https://localhost:8080/",
          "height": 34
        }
      },
      "source": [
        "import math\n",
        "def bernoulliHesapla(x):\n",
        "  \n",
        "  p= x # Başarı Durumu\n",
        "  q= 1-p # Başarısızlık Durumu\n",
        "  \n",
        "  m=q*0+p*1 #dağılımın ortalaması(beklenen değer)\n",
        "  varyans=q*pow((0-p),2)+p*pow((1-p),2) #=p*(1-p)\n",
        "  #varyans2=p*(1-p) Yukarıdaki satırla aynı işlevi görür\n",
        "  print(\"Varyans= \" +str(varyans))\n",
        "\n",
        "  \n",
        "bernoulliHesapla(0.85)"
      ],
      "execution_count": 0,
      "outputs": [
        {
          "output_type": "stream",
          "text": [
            "Varyans= 0.1275\n"
          ],
          "name": "stdout"
        }
      ]
    },
    {
      "cell_type": "markdown",
      "metadata": {
        "id": "x6Bkl2eZKgIc",
        "colab_type": "text"
      },
      "source": [
        "BİNOM AÇILIMI\n",
        "\n",
        " (x + y)n açılımında n + 1 tane terim vardır. (x + y)n açılımında her terimdeki x ve y çarpanlarının üslerinin toplamı n sayısına eşittir.\n",
        " \n",
        " (x + y)n ifadesinin kat sayılarının toplamı x ile y yerine 1 yazılarak,\n",
        "\n",
        "(1 + 1)n = 2n bulunur.\n",
        "\n",
        " (x + y)n ifadesinin açılımındaki sabit terimi bulmak için x ile y yerine 0 yazılır.\n",
        "\n",
        " (x + y)n ifadesinin açılımı x in azalan kuvvetlerine göre dizildiğinde baştan r + 1 inci terim:\n",
        "\n",
        "\n",
        "\n",
        " (x + y)2n nin açılımındaki ortanca terim:\n",
        "\n",
        "\n",
        "Başarı olasılığı olan bir Bernoulli denemesinin aynı şartlar altında (bağımsız olarak) n kez tekrarlanması ile oluşan deneye binom deneyi denir.\n",
        "\n",
        "Binom deneyinin aşağıdaki koşulları sağlaması gerekir:\n",
        "\n",
        "Deney süresince örneklemde denek sayısı ya da deneme sayısı değişmez olmalıdır.\n",
        "Denemeler birbirinden bağımsızdır.\n",
        "Her denemede iki olası sonuç vardır (istenen ve istenmeyen olay).\n",
        "Her denemede ilgilenilen olay olasılığı değişmezdir. Dolayısıyla istenmeyen olay olasılığı  q=1−p  de değişmezdir.\n",
        "Binom dağılımı kesikli bir olasılık dağılımıdır. X rasgele değişkeni binom dağılımına sahip olduğunda X~Bin(n,p) ile gösterilir.\n",
        "\n",
        "Binom dağılımının olasılık fonksiyonu,\n",
        "\n",
        " f(x)=P(X=k)=(nk)pxqn−x,x=0,1,...,n \n",
        "şeklinde verilir.\n",
        "\n",
        "Örnek:\n",
        "\n",
        "İlaç üreten bir firma ürettiği ilaçları ambalajlayarak satışa sunmaktadır. Ambalajlanan ilaç paketlerinin %20’unun istenen standarda uymadığı bilinmektedir. Bu ambalajlanmış ilaç paketlerinden 6 tanesi yerine koyularak rasgele olarak seçildiğinde,\n",
        "\n",
        "Sadece 3’sinin ambalajının istenilen standarda uygun olması olasılığı nedir?\n"
      ]
    },
    {
      "cell_type": "code",
      "metadata": {
        "id": "GanNhItOK3-J",
        "colab_type": "code",
        "outputId": "9a435f58-4b64-40f7-d2dc-df4a256eaf30",
        "colab": {
          "base_uri": "https://localhost:8080/",
          "height": 359
        }
      },
      "source": [
        "def faktoriyelHesapla(i):\n",
        "  if i==1:    \n",
        "    return 1 \n",
        "  else: \n",
        "    return i * faktoriyelHesapla(i-1)\n",
        "w=0  \n",
        "def kombinasyonHesapla(n,k):\n",
        "  if(n==x):\n",
        "    return 1\n",
        "  elif(n>x):\n",
        "    s= faktoriyelHesapla(n) \n",
        "    l= faktoriyelHesapla(k) \n",
        "    f= faktoriyelHesapla(n-k)\n",
        "    w=s/(l*f)\n",
        "    return w\n",
        "      \n",
        "def binomHesapla(x,n,k):\n",
        "    p= x \n",
        "    q= 1-p\n",
        "    us=n-k\n",
        "    s=kombinasyonHesapla(n,k)\n",
        "    binom=pow(p,2)*pow(q,us)*s\n",
        "    return binom\n",
        "  \n",
        "yaz=binomHesapla(0.9,6,3)\n",
        "print(yaz)"
      ],
      "execution_count": 0,
      "outputs": [
        {
          "output_type": "error",
          "ename": "NameError",
          "evalue": "ignored",
          "traceback": [
            "\u001b[0;31m---------------------------------------------------------------------------\u001b[0m",
            "\u001b[0;31mNameError\u001b[0m                                 Traceback (most recent call last)",
            "\u001b[0;32m<ipython-input-5-26ce0802da93>\u001b[0m in \u001b[0;36m<module>\u001b[0;34m()\u001b[0m\n\u001b[1;32m     23\u001b[0m     \u001b[0;32mreturn\u001b[0m \u001b[0mbinom\u001b[0m\u001b[0;34m\u001b[0m\u001b[0;34m\u001b[0m\u001b[0m\n\u001b[1;32m     24\u001b[0m \u001b[0;34m\u001b[0m\u001b[0m\n\u001b[0;32m---> 25\u001b[0;31m \u001b[0myaz\u001b[0m\u001b[0;34m=\u001b[0m\u001b[0mbinomHesapla\u001b[0m\u001b[0;34m(\u001b[0m\u001b[0;36m0.9\u001b[0m\u001b[0;34m,\u001b[0m\u001b[0;36m6\u001b[0m\u001b[0;34m,\u001b[0m\u001b[0;36m3\u001b[0m\u001b[0;34m)\u001b[0m\u001b[0;34m\u001b[0m\u001b[0;34m\u001b[0m\u001b[0m\n\u001b[0m\u001b[1;32m     26\u001b[0m \u001b[0mprint\u001b[0m\u001b[0;34m(\u001b[0m\u001b[0myaz\u001b[0m\u001b[0;34m)\u001b[0m\u001b[0;34m\u001b[0m\u001b[0;34m\u001b[0m\u001b[0m\n",
            "\u001b[0;32m<ipython-input-5-26ce0802da93>\u001b[0m in \u001b[0;36mbinomHesapla\u001b[0;34m(x, n, k)\u001b[0m\n\u001b[1;32m     19\u001b[0m     \u001b[0mq\u001b[0m\u001b[0;34m=\u001b[0m \u001b[0;36m1\u001b[0m\u001b[0;34m-\u001b[0m\u001b[0mp\u001b[0m\u001b[0;34m\u001b[0m\u001b[0;34m\u001b[0m\u001b[0m\n\u001b[1;32m     20\u001b[0m     \u001b[0mus\u001b[0m\u001b[0;34m=\u001b[0m\u001b[0mn\u001b[0m\u001b[0;34m-\u001b[0m\u001b[0mk\u001b[0m\u001b[0;34m\u001b[0m\u001b[0;34m\u001b[0m\u001b[0m\n\u001b[0;32m---> 21\u001b[0;31m     \u001b[0ms\u001b[0m\u001b[0;34m=\u001b[0m\u001b[0mkombinasyonHesapla\u001b[0m\u001b[0;34m(\u001b[0m\u001b[0mn\u001b[0m\u001b[0;34m,\u001b[0m\u001b[0mk\u001b[0m\u001b[0;34m)\u001b[0m\u001b[0;34m\u001b[0m\u001b[0;34m\u001b[0m\u001b[0m\n\u001b[0m\u001b[1;32m     22\u001b[0m     \u001b[0mbinom\u001b[0m\u001b[0;34m=\u001b[0m\u001b[0mpow\u001b[0m\u001b[0;34m(\u001b[0m\u001b[0mp\u001b[0m\u001b[0;34m,\u001b[0m\u001b[0;36m2\u001b[0m\u001b[0;34m)\u001b[0m\u001b[0;34m*\u001b[0m\u001b[0mpow\u001b[0m\u001b[0;34m(\u001b[0m\u001b[0mq\u001b[0m\u001b[0;34m,\u001b[0m\u001b[0mus\u001b[0m\u001b[0;34m)\u001b[0m\u001b[0;34m*\u001b[0m\u001b[0ms\u001b[0m\u001b[0;34m\u001b[0m\u001b[0;34m\u001b[0m\u001b[0m\n\u001b[1;32m     23\u001b[0m     \u001b[0;32mreturn\u001b[0m \u001b[0mbinom\u001b[0m\u001b[0;34m\u001b[0m\u001b[0;34m\u001b[0m\u001b[0m\n",
            "\u001b[0;32m<ipython-input-5-26ce0802da93>\u001b[0m in \u001b[0;36mkombinasyonHesapla\u001b[0;34m(n, k)\u001b[0m\n\u001b[1;32m      6\u001b[0m \u001b[0mw\u001b[0m\u001b[0;34m=\u001b[0m\u001b[0;36m0\u001b[0m\u001b[0;34m\u001b[0m\u001b[0;34m\u001b[0m\u001b[0m\n\u001b[1;32m      7\u001b[0m \u001b[0;32mdef\u001b[0m \u001b[0mkombinasyonHesapla\u001b[0m\u001b[0;34m(\u001b[0m\u001b[0mn\u001b[0m\u001b[0;34m,\u001b[0m\u001b[0mk\u001b[0m\u001b[0;34m)\u001b[0m\u001b[0;34m:\u001b[0m\u001b[0;34m\u001b[0m\u001b[0;34m\u001b[0m\u001b[0m\n\u001b[0;32m----> 8\u001b[0;31m   \u001b[0;32mif\u001b[0m\u001b[0;34m(\u001b[0m\u001b[0mn\u001b[0m\u001b[0;34m==\u001b[0m\u001b[0mx\u001b[0m\u001b[0;34m)\u001b[0m\u001b[0;34m:\u001b[0m\u001b[0;34m\u001b[0m\u001b[0;34m\u001b[0m\u001b[0m\n\u001b[0m\u001b[1;32m      9\u001b[0m     \u001b[0;32mreturn\u001b[0m \u001b[0;36m1\u001b[0m\u001b[0;34m\u001b[0m\u001b[0;34m\u001b[0m\u001b[0m\n\u001b[1;32m     10\u001b[0m   \u001b[0;32melif\u001b[0m\u001b[0;34m(\u001b[0m\u001b[0mn\u001b[0m\u001b[0;34m>\u001b[0m\u001b[0mx\u001b[0m\u001b[0;34m)\u001b[0m\u001b[0;34m:\u001b[0m\u001b[0;34m\u001b[0m\u001b[0;34m\u001b[0m\u001b[0m\n",
            "\u001b[0;31mNameError\u001b[0m: name 'x' is not defined"
          ]
        }
      ]
    },
    {
      "cell_type": "markdown",
      "metadata": {
        "id": "MdYZnbzcLzr7",
        "colab_type": "text"
      },
      "source": [
        "**Varyans ve Standar Sapma Nedir:**\n",
        "\n",
        "Varyans bır dağılımın kendi ortalamasından sapmasının karesinin beklenen değeridir. Varyans kavramı dağılıma ait herbir değerin dağılımın ortalamasından ne kadar uzak olduğuyla ilgilidir. Varyans söz konusu sapmaların ortalama değerini ölçmektedir.\n",
        "\n",
        "Standart Sapma ise varyansın kare köküdür.\n",
        "\n",
        "Problemin çözümü için aşağıdaki adımlar uygulanır.\n",
        "\n",
        "Adım 1: Ortalama bulunur.\n",
        "\n",
        "Adım 2: Her veri noktasının ortalamaya uzaklığının karesi bulunur.\n",
        "\n",
        "Adım 3: 2. Adımdaki değerler toplanır.\n",
        "\n",
        "Adım 4: Veri noktası sayısına bölünür. (vasyans)\n",
        "\n",
        "Adım 5: Karekök alın. (Standart Sapma)\n",
        "\n",
        "Örnek:\n",
        "Kullanıcının gireceği n kadar sayının varyansının ve standart sapmasının hesaplanması"
      ]
    },
    {
      "cell_type": "code",
      "metadata": {
        "id": "36Ptu1KVL7Ab",
        "colab_type": "code",
        "colab": {
          "base_uri": "https://localhost:8080/",
          "height": 187
        },
        "outputId": "51331b0b-962d-42f3-8cd4-1bca25527ec0"
      },
      "source": [
        "import numpy as np\n",
        "import math\n",
        "\n",
        "def varyansHesap(adet):\n",
        "  liste=[]\n",
        "  Ex=0\n",
        "  Vx=0\n",
        "  #Kullanıcının belirlediği adet kadar sayı alınıp diziye ekleniyor\n",
        "  for i in range(adet):\n",
        "    deger=int(input(str(i+1)+ \". Sayı:\"))\n",
        "    liste.append(deger)\n",
        "  \n",
        "  #Girilen değerlere göre ortalama hesaplanıyor.(Herbir değerin olasılığının kendisi ile çarpılıp toplanıyor)\n",
        "  for i in range(adet):\n",
        "    x=(1/adet)*liste[i]\n",
        "    Ex+=x\n",
        "    \n",
        "  # Varyans Hesabı Yapılıyor\n",
        "  for i in range(adet):\n",
        "    x=(1/adet)*(pow(Ex-liste[i],2))\n",
        "    Vx+=x\n",
        "    \n",
        "  # Sonuçlar yazdırılıyor  \n",
        "  print (\"Ortalama= \"+ str(Ex))\n",
        "  print (\"Varyans= \"+ str(Vx))\n",
        "  print (\"Standart Sapma= \"+ str(pow(Vx,1/2))) #Standart Sapma Hesaplanıp yazdırılıyor\n",
        "    \n",
        "adet=int(input(\"Kaç adet sayı girilecek?: \"))\n",
        "varyansHesap(adet)"
      ],
      "execution_count": 1,
      "outputs": [
        {
          "output_type": "stream",
          "text": [
            "Kaç adet sayı girilecek?: 6\n",
            "1. Sayı:6\n",
            "2. Sayı:5\n",
            "3. Sayı:8\n",
            "4. Sayı:9\n",
            "5. Sayı:4\n",
            "6. Sayı:3\n",
            "Ortalama= 5.833333333333333\n",
            "Varyans= 4.472222222222222\n",
            "Standart Sapma= 2.1147629234082532\n"
          ],
          "name": "stdout"
        }
      ]
    }
  ]
}