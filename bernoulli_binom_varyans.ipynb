{
  "nbformat": 4,
  "nbformat_minor": 0,
  "metadata": {
    "colab": {
      "name": "bernoulli-binom-varyans.ipynb",
      "version": "0.3.2",
      "provenance": [],
      "include_colab_link": true
    },
    "kernelspec": {
      "name": "python3",
      "display_name": "Python 3"
    }
  },
  "cells": [
    {
      "cell_type": "markdown",
      "metadata": {
        "id": "view-in-github",
        "colab_type": "text"
      },
      "source": [
        "<a href=\"https://colab.research.google.com/github/mutluslu/ileriolasilik/blob/master/bernoulli_binom_varyans.ipynb\" target=\"_parent\"><img src=\"https://colab.research.google.com/assets/colab-badge.svg\" alt=\"Open In Colab\"/></a>"
      ]
    },
    {
      "cell_type": "markdown",
      "metadata": {
        "id": "JIsRpGvZFbMf",
        "colab_type": "text"
      },
      "source": [
        "**Bernoulli prensibi**\n",
        "\n",
        "Farklı kesit alanlarında ideal akışkanın basıncının nasıl değiştiğini açıklayan ilkeye Bernoulli prensibi denir.\n",
        "\n",
        "Bernoulli ilkesine göre akışkanın hızı ile basıncı arasında ters orantı vardır. Yani akışkanın hızının arttığı kesitte basınç azalır, hızın azaldığı kesitte basınç artar.\n",
        " \n",
        "V3 > V2 > V1 ise P1 > P2 > P3 olur.\n",
        "Sıvı basıncı yükseklikle doğru orantılı olduğuna göre yukarıdaki şekilde h1 > h2 > h3 olur.\n",
        "\n",
        "**Bernoulli Dağılımı:**\n",
        "Bir deneyde başarı ve başarısızlık diye nitelendirilen iki sonuçla ilgilenildiğinde bu deneye (iki sonuçlu) Bernoulli deneyi ya da Bernoulli denemesi denir.\n",
        "\n",
        "**Basarı olasılıgı **⇒ p,(0<p<1) \n",
        "\n",
        "**Basarısızlık olasılıgı **⇒  1−p=q \n",
        "\n",
        "Bernoulli dagılımının olasılık fonksiyonu:\n",
        "\n",
        " P(X=x)=px(1−p)1−x,x=0,1 \n",
        " \n",
        " E[X]=∑xP(X=x)=0(1−p)+1p=p \n",
        " \n",
        " E[X2]=∑x2P(X=x2)=02(1−p)+12p=p \n",
        " \n",
        " Var(X)=E[X2]−E[X]2=p−p2=p(1−p)=p(1−p)\n",
        " \n",
        " Örnek:\n",
        "Bir ameliyatın başarılı olma olasılığı %85, başarısız olma olasılığı %15'dir. Buna göre Bernoulli dağılımını hesaplayınız.\n",
        "\n",
        "\n"
      ]
    },
    {
      "cell_type": "code",
      "metadata": {
        "id": "E7LtXKBtHpie",
        "colab_type": "code",
        "colab": {
          "base_uri": "https://localhost:8080/",
          "height": 34
        },
        "outputId": "cbfe6e39-30c6-4ad2-f406-01d05b0fe454"
      },
      "source": [
        "import math\n",
        "def bernoulliHesapla(x):\n",
        "  \n",
        "  p= x # Başarı Durumu\n",
        "  q= 1-p # Başarısızlık Durumu\n",
        "  \n",
        "  m=q*0+p*1 #dağılımın ortalaması(beklenen değer)\n",
        "  varyans=q*pow((0-p),2)+p*pow((1-p),2) #=p*(1-p)\n",
        "  #varyans2=p*(1-p) Yukarıdaki satırla aynı işlevi görür\n",
        "  print(\"Varyans= \" +str(varyans))\n",
        "\n",
        "  \n",
        "bernoulliHesapla(0.85)"
      ],
      "execution_count": 1,
      "outputs": [
        {
          "output_type": "stream",
          "text": [
            "Varyans= 0.1275\n"
          ],
          "name": "stdout"
        }
      ]
    }
  ]
}