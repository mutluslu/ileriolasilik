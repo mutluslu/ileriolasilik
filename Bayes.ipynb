{
  "nbformat": 4,
  "nbformat_minor": 0,
  "metadata": {
    "colab": {
      "name": "Bayes.ipynb",
      "version": "0.3.2",
      "provenance": [],
      "include_colab_link": true
    },
    "kernelspec": {
      "name": "python3",
      "display_name": "Python 3"
    }
  },
  "cells": [
    {
      "cell_type": "markdown",
      "metadata": {
        "id": "view-in-github",
        "colab_type": "text"
      },
      "source": [
        "<a href=\"https://colab.research.google.com/github/mutluslu/ileriolasilik/blob/master/Bayes.ipynb\" target=\"_parent\"><img src=\"https://colab.research.google.com/assets/colab-badge.svg\" alt=\"Open In Colab\"/></a>"
      ]
    },
    {
      "metadata": {
        "id": "qk-1z_aDyX_-",
        "colab_type": "text"
      },
      "cell_type": "markdown",
      "source": [
        "# Örnek Bayes Problemi\n",
        "## Soru:\n",
        "Bir araştırmaya göre her 43 çocuktan 1 tanesi, yetişkinlikte ortaya çıkan belli bir hastalığa yakalanmakta ve tam güvenilir olmamasına rağmen yapılan test sonuçlarına göre, hastalıklı bir çocuğun testi %80 pozitif, sağlıklı bir çocuğun testi ise %10 pozitif sonuç vermektedir. Bu bilgilere göre test sonucu pozitif olan bir çocuğun gerçekten hasta olma olasılığı nedir?\n",
        "\n",
        "## Çözüm:\n",
        "\n",
        "P(A) : Çocuğun hasta olması olasılığı = 1/43\n",
        "\n",
        "P(B) : Testin pozitif çıkması olasılığı = 1/43 * 0.80 + 42/43 * 0.10 = 5/43\n",
        "\n",
        "P(A|B) : Pozitif çıkan testin hastalık çıkma olasılığı ( sorulan bu )\n",
        "\n",
        "P(B|A) : Hastalıklı çocuğun testinin pozitif çıkma olasılığı = 0.80\n",
        "\n",
        "\n",
        "P(A|B)=P(B|A)*P(A)/P(B) => (0.80 * 1/43) / (5/43) = 0.16 = %16 bulunur."
      ]
    },
    {
      "metadata": {
        "id": "hNcdqUY50xxD",
        "colab_type": "code",
        "outputId": "f07ac621-3fb7-42c7-ee3a-8ecf7e3113de",
        "colab": {
          "base_uri": "https://localhost:8080/",
          "height": 34
        }
      },
      "cell_type": "code",
      "source": [
        "def bayesT():\n",
        "    pA=1/43                              # Çocuğun hasta olması olasılığı\n",
        "    \n",
        "    pB=(1/43*0.80) + (42/43*0.10)        # Testin pozitif çıkması olasılığı \n",
        "    \n",
        "    pBA=0.80                             # Hastalıklı çocuğun testinin pozitif çıkma olasılığı\n",
        "    \n",
        "    pAB=pA*pBA/pB                        # Pozitif çıkan testin hastalık çıkma olasılığı\n",
        "    \n",
        "    return pAB\n",
        "  \n",
        "print(\"Pozitif çıkan testin hastalık çıkma olasılığı= %\" + str(bayesT()))"
      ],
      "execution_count": 1,
      "outputs": [
        {
          "output_type": "stream",
          "text": [
            "Pozitif çıkan testin hastalık çıkma olasılığı= %0.16\n"
          ],
          "name": "stdout"
        }
      ]
    }
  ]
}